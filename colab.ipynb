{
  "cells": [
    {
      "cell_type": "code",
      "source": [
        "!pip install uv\n",
        "!git clone https://github.com/blkdfdr/SeeAction\n",
        "%cd seeaction\n",
        "!git pull\n",
        "!uv sync"
      ],
      "metadata": {
        "id": "ORxDkcQSSfyE"
      },
      "id": "ORxDkcQSSfyE",
      "execution_count": null,
      "outputs": []
    },
    {
      "metadata": {
        "id": "6dd7a84f03eddacc"
      },
      "cell_type": "markdown",
      "source": [
        "### Extracting images"
      ],
      "id": "6dd7a84f03eddacc"
    },
    {
      "metadata": {
        "id": "e53c6bd405a03222"
      },
      "cell_type": "code",
      "outputs": [],
      "execution_count": null,
      "source": [
        "\n",
        "# since we use uv and not the system interpreter we need to stay in this block to keep the env\n",
        "!source .venv/bin/activate\n",
        "\n",
        "from google.colab import drive\n",
        "gdrive = '/content/gdrive'\n",
        "drive.mount(gdrive)\n",
        "dataset = \"/MyDrive/Colab\\ Notebooks/data/dataset_seeaction\"\n",
        "dataset_path = f\"{gdrive}/{dataset}\"\n",
        "\n",
        "### Unpack tar if it does not exist already\n",
        "import os\n",
        "if not os.path.exists(dataset_path):\n",
        "    !tar -xvzf {dataset_path}.tar.gz --skip-components=1 -C {dataset_path}"
      ],
      "id": "e53c6bd405a03222"
    },
    {
      "metadata": {
        "id": "13b08344dbb00921"
      },
      "cell_type": "markdown",
      "source": [
        "### Training"
      ],
      "id": "13b08344dbb00921"
    },
    {
      "metadata": {
        "id": "50a5e68b36250200"
      },
      "cell_type": "code",
      "outputs": [],
      "execution_count": null,
      "source": [
        "!source .venv/bin/activate\n",
        "import config\n",
        "config.data_dir = dataset_path\n",
        "\n",
        "import train\n",
        "train.main()"
      ],
      "id": "50a5e68b36250200"
    }
  ],
  "metadata": {
    "kernelspec": {
      "display_name": "Python 3",
      "language": "python",
      "name": "python3"
    },
    "language_info": {
      "codemirror_mode": {
        "name": "ipython",
        "version": 2
      },
      "file_extension": ".py",
      "mimetype": "text/x-python",
      "name": "python",
      "nbconvert_exporter": "python",
      "pygments_lexer": "ipython2",
      "version": "2.7.6"
    },
    "colab": {
      "provenance": []
    }
  },
  "nbformat": 4,
  "nbformat_minor": 5
}