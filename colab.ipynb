{
 "cells": [
  {
   "metadata": {},
   "cell_type": "markdown",
   "source": "### Extracting images",
   "id": "6dd7a84f03eddacc"
  },
  {
   "metadata": {},
   "cell_type": "code",
   "outputs": [],
   "execution_count": null,
   "source": [
    "!apt-get install uv\n",
    "!uv sync\n",
    "# since we use uv and not the system interpreter we need to stay in this block to keep the env\n",
    "!source venv/bin/activate\n",
    "\n",
    "from google.colab import drive\n",
    "gdrive = '/content/gdrive'\n",
    "drive.mount(gdrive)\n",
    "dataset = \"/MyDrive/Colab\\ Notebooks/data/dataset_seeaction\"\n",
    "dataset_path = f\"{gdrive}/{dataset}\"\n",
    "\n",
    "### Unpack tar if it does not exist already\n",
    "import os\n",
    "if not os.path.exists(dataset_path):\n",
    "    os.system(f\"tar -xvzf {dataset_path}.tar.gz\")\n",
    "\n",
    "### Extract frames using ffmpeg\n",
    "!apt-get install ffmpeg\n",
    "import extract_frame\n",
    "extract_frame.data_dir = dataset_path\n",
    "extract_frame.main()\n",
    "\n",
    "import com_diff\n",
    "com_diff.data_dir = dataset_path\n",
    "com_diff.main()"
   ],
   "id": "e53c6bd405a03222"
  },
  {
   "metadata": {},
   "cell_type": "markdown",
   "source": "### Training",
   "id": "13b08344dbb00921"
  },
  {
   "metadata": {},
   "cell_type": "code",
   "outputs": [],
   "execution_count": null,
   "source": [
    "!source venv/bin/activate\n",
    "import config\n",
    "config.data_dir = dataset_path\n",
    "import train\n",
    "train.main()"
   ],
   "id": "50a5e68b36250200"
  }
 ],
 "metadata": {
  "kernelspec": {
   "display_name": "Python 3",
   "language": "python",
   "name": "python3"
  },
  "language_info": {
   "codemirror_mode": {
    "name": "ipython",
    "version": 2
   },
   "file_extension": ".py",
   "mimetype": "text/x-python",
   "name": "python",
   "nbconvert_exporter": "python",
   "pygments_lexer": "ipython2",
   "version": "2.7.6"
  }
 },
 "nbformat": 4,
 "nbformat_minor": 5
}
